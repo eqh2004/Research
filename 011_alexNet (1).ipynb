{
 "cells": [
  {
   "cell_type": "markdown",
   "metadata": {},
   "source": [
    "Modified version of https://github.com/maticvl/dataHacker/blob/master/pyTorch/011_alexNet.ipynb"
   ]
  },
  {
   "cell_type": "code",
   "execution_count": 2,
   "metadata": {
    "id": "VSi_HbxxTUI0"
   },
   "outputs": [],
   "source": [
    "import matplotlib.pyplot as plt\n",
    "import numpy as np\n",
    "\n",
    "import torch\n",
    "from torch import nn, optim\n",
    "from torchvision import datasets, transforms\n",
    "\n",
    "import zipfile\n",
    "\n",
    "import shutil\n",
    "import os\n",
    "import pandas as pd\n",
    "\n",
    "device = (\"cuda\" if torch.cuda.is_available() else \"cpu\") # Use GPU or CPU for training"
   ]
  },
  {
   "cell_type": "code",
   "execution_count": 24,
   "metadata": {
    "id": "6fpjRAqRR75H"
   },
   "outputs": [],
   "source": [
    "class AlexNet(nn.Module):\n",
    "\n",
    "    def __init__(self, num_classes: int = 2):\n",
    "        super(AlexNet, self).__init__()\n",
    "\n",
    "        self.convolutional = nn.Sequential(\n",
    "            nn.Conv2d(3, 64, kernel_size=11, stride=4, padding=2),\n",
    "            nn.ReLU(inplace=True),\n",
    "            nn.MaxPool2d(kernel_size=3, stride=2),\n",
    "            nn.Conv2d(64, 192, kernel_size=5, padding=2),\n",
    "            nn.ReLU(inplace=True),\n",
    "            nn.MaxPool2d(kernel_size=3, stride=2),\n",
    "            nn.Conv2d(192, 384, kernel_size=3, padding=1),\n",
    "            nn.ReLU(inplace=True),\n",
    "            nn.Conv2d(384, 256, kernel_size=3, padding=1),\n",
    "            nn.ReLU(inplace=True),\n",
    "            nn.Conv2d(256, 256, kernel_size=3, padding=1),\n",
    "            nn.ReLU(inplace=True),\n",
    "            nn.MaxPool2d(kernel_size=3, stride=2),\n",
    "        )\n",
    "\n",
    "        self.avgpool = nn.AdaptiveAvgPool2d((6, 6))\n",
    "\n",
    "        self.linear = nn.Sequential(\n",
    "            nn.Dropout(),\n",
    "            nn.Linear(256 * 6 * 6, 4096),\n",
    "            nn.ReLU(inplace=True),\n",
    "            nn.Dropout(),\n",
    "            nn.Linear(4096, 4096),\n",
    "            nn.ReLU(inplace=True),\n",
    "            nn.Linear(4096, 2)\n",
    "        )\n",
    "        #Add in the next line for log normal intialization\n",
    "        #self.init_bias()\n",
    "    \n",
    "    def init_bias(self):\n",
    "        for layer in self.convolutional:\n",
    "            if isinstance(layer, nn.Conv2d):\n",
    "                layer.weight.log_normal_\n",
    "\n",
    "    def forward(self, x: torch.Tensor) -> torch.Tensor:\n",
    "\n",
    "        x = self.convolutional(x)\n",
    "        x = self.avgpool(x)\n",
    "        x = torch.flatten(x, 1)\n",
    "        x = self.linear(x)\n",
    "        return torch.softmax(x, 1)\n"
   ]
  },
  {
   "cell_type": "code",
   "execution_count": 25,
   "metadata": {
    "id": "l70Tog5KTY7w"
   },
   "outputs": [],
   "source": [
    "model = AlexNet()\n",
    "model = model.to(device)"
   ]
  },
  {
   "cell_type": "code",
   "execution_count": 6,
   "metadata": {
    "colab": {
     "base_uri": "https://localhost:8080/"
    },
    "id": "DjIhY_c8TaTf",
    "outputId": "a50a333e-4848-42e7-c0a2-be10d4d6aff7"
   },
   "outputs": [
    {
     "name": "stdout",
     "output_type": "stream",
     "text": [
      "--2024-05-13 23:03:17--  https://s3-us-west-1.amazonaws.com/udacity-dlnfd/datasets/celeba.zip\n",
      "Resolving s3-us-west-1.amazonaws.com (s3-us-west-1.amazonaws.com)... 52.219.120.128, 52.219.220.240, 52.219.117.168, ...\n",
      "Connecting to s3-us-west-1.amazonaws.com (s3-us-west-1.amazonaws.com)|52.219.120.128|:443... connected.\n",
      "HTTP request sent, awaiting response... 200 OK\n",
      "Length: 1443490838 (1.3G) [application/zip]\n",
      "Saving to: ‘celeba.zip’\n",
      "\n",
      "celeba.zip          100%[===================>]   1.34G  17.5MB/s    in 80s     \n",
      "\n",
      "2024-05-13 23:04:38 (17.2 MB/s) - ‘celeba.zip’ saved [1443490838/1443490838]\n",
      "\n"
     ]
    }
   ],
   "source": [
    "!mkdir data_faces && wget https://s3-us-west-1.amazonaws.com/udacity-dlnfd/datasets/celeba.zip "
   ]
  },
  {
   "cell_type": "code",
   "execution_count": 7,
   "metadata": {
    "id": "OqTHKuIEUcpN"
   },
   "outputs": [],
   "source": [
    "with zipfile.ZipFile(\"celeba.zip\",\"r\") as zip_ref:\n",
    "  zip_ref.extractall(\"data_faces/\")"
   ]
  },
  {
   "cell_type": "code",
   "execution_count": 26,
   "metadata": {
    "colab": {
     "base_uri": "https://localhost:8080/"
    },
    "id": "2WsjxbOLUduu",
    "outputId": "199d97d7-78f5-4b89-802f-c6afded8318f"
   },
   "outputs": [
    {
     "name": "stdout",
     "output_type": "stream",
     "text": [
      "202599\n"
     ]
    }
   ],
   "source": [
    "root = 'data_faces/img_align_celeba'\n",
    "img_list = os.listdir(root)\n",
    "print(len(img_list))"
   ]
  },
  {
   "cell_type": "code",
   "execution_count": 27,
   "metadata": {
    "id": "96aJcE42Utbf"
   },
   "outputs": [],
   "source": [
    "df = pd.read_csv(\"list_attr_celeba.csv\")\n",
    "df = df[['image_id', 'Smiling']]"
   ]
  },
  {
   "cell_type": "code",
   "execution_count": 28,
   "metadata": {
    "id": "DjoJWfg_Uu2I"
   },
   "outputs": [],
   "source": [
    "!rm -rf data\n",
    "!mkdir data && mkdir data/smile && mkdir data/no_smile"
   ]
  },
  {
   "cell_type": "code",
   "execution_count": 29,
   "metadata": {
    "id": "WILEHmENW5FU"
   },
   "outputs": [],
   "source": [
    "s0 = 0\n",
    "s1 = 0\n",
    "\n",
    "num = 1500\n",
    "\n",
    "for i, (_, i_row) in enumerate(df.iterrows()):\n",
    "  if s0 < num:\n",
    "    if i_row['Smiling'] == 1:\n",
    "      s0 += 1\n",
    "      shutil.copyfile('data_faces/img_align_celeba/' + i_row['image_id'], 'data/smile/' + i_row['image_id'])\n",
    "  \n",
    "  if s1 < num:\n",
    "    if i_row['Smiling'] == -1:\n",
    "      s1 += 1\n",
    "      shutil.copyfile('data_faces/img_align_celeba/' + i_row['image_id'], 'data/no_smile/' + i_row['image_id'])\n",
    "  \n",
    "  if s0 == num and s1 == num:\n",
    "    break"
   ]
  },
  {
   "cell_type": "code",
   "execution_count": 30,
   "metadata": {
    "id": "JbLSqIteW-q_"
   },
   "outputs": [],
   "source": [
    "img_list = os.listdir('data/smile/')\n",
    "img_list.extend(os.listdir('data/no_smile/'))"
   ]
  },
  {
   "cell_type": "code",
   "execution_count": 31,
   "metadata": {
    "colab": {
     "base_uri": "https://localhost:8080/"
    },
    "id": "QBoSAn1MXCQe",
    "outputId": "aa4b4c09-d2dd-4752-e0f2-b37c54dad5d5"
   },
   "outputs": [
    {
     "name": "stdout",
     "output_type": "stream",
     "text": [
      "Images:  3000\n"
     ]
    }
   ],
   "source": [
    "print(\"Images: \", len(img_list))"
   ]
  },
  {
   "cell_type": "code",
   "execution_count": 32,
   "metadata": {
    "id": "3E8t6sHiXDkg"
   },
   "outputs": [],
   "source": [
    "!rm -rf 'data/.ipynb_checkpoints/'"
   ]
  },
  {
   "cell_type": "code",
   "execution_count": 33,
   "metadata": {
    "id": "zxs7ZAl0XEoX"
   },
   "outputs": [],
   "source": [
    "transform = transforms.Compose([\n",
    "          transforms.Resize((64, 64)),\n",
    "          transforms.ToTensor()\n",
    "          ])\n",
    "\n",
    "batch_size = 64\n",
    "celeba_data = datasets.ImageFolder('data', transform=transform)"
   ]
  },
  {
   "cell_type": "code",
   "execution_count": 34,
   "metadata": {
    "colab": {
     "base_uri": "https://localhost:8080/"
    },
    "id": "Qp9NcsPZXJEM",
    "outputId": "2d5eb412-f265-4003-f076-35605cd1ea37"
   },
   "outputs": [
    {
     "name": "stdout",
     "output_type": "stream",
     "text": [
      "['no_smile', 'smile']\n",
      "3000\n"
     ]
    }
   ],
   "source": [
    "print(celeba_data.classes)\n",
    "print(len(celeba_data))"
   ]
  },
  {
   "cell_type": "code",
   "execution_count": 35,
   "metadata": {
    "id": "vOuJ-QGgXMaJ"
   },
   "outputs": [],
   "source": [
    "train_set, test_set = torch.utils.data.random_split(celeba_data, [int(len(img_list) * 0.75), len(img_list) - int(len(img_list) * 0.75)])\n",
    "train_data_size = len(train_set)\n",
    "test_data_size = len(test_set)"
   ]
  },
  {
   "cell_type": "code",
   "execution_count": 36,
   "metadata": {
    "id": "x4mAwT0pXPPX"
   },
   "outputs": [],
   "source": [
    "trainLoader = torch.utils.data.DataLoader(train_set,batch_size=batch_size, shuffle=True)\n",
    "testLoader  = torch.utils.data.DataLoader(test_set, batch_size=batch_size, shuffle=True)"
   ]
  },
  {
   "cell_type": "code",
   "execution_count": 37,
   "metadata": {
    "colab": {
     "base_uri": "https://localhost:8080/"
    },
    "id": "yfJlLmJiXPj4",
    "outputId": "cfc5c710-1dfe-471f-fbf4-a2aa837fc9b1"
   },
   "outputs": [
    {
     "name": "stdout",
     "output_type": "stream",
     "text": [
      "2250\n",
      "750\n"
     ]
    }
   ],
   "source": [
    "print(train_data_size)\n",
    "print(test_data_size)"
   ]
  },
  {
   "cell_type": "code",
   "execution_count": 38,
   "metadata": {
    "id": "Cma6NMR2XSqZ"
   },
   "outputs": [],
   "source": [
    "optimizer = optim.Adam(model.parameters(), lr=0.0001)\n",
    "criterion = nn.CrossEntropyLoss()"
   ]
  },
  {
   "cell_type": "code",
   "execution_count": 39,
   "metadata": {
    "colab": {
     "base_uri": "https://localhost:8080/"
    },
    "id": "UJiS8ZTrXW5X",
    "outputId": "4dc7b82a-fe7f-4766-8dc2-d2db89a4c7c5"
   },
   "outputs": [
    {
     "name": "stdout",
     "output_type": "stream",
     "text": [
      "Epoch: 0 | Train Loss: 0.6934054245551428\n",
      "Epoch: 1 | Train Loss: 0.6889112922880385\n",
      "Epoch: 2 | Train Loss: 0.6568439784977171\n",
      "Epoch: 3 | Train Loss: 0.5830420007308325\n",
      "Epoch: 4 | Train Loss: 0.5383997476763196\n",
      "Epoch: 5 | Train Loss: 0.48722198026047814\n",
      "Epoch: 6 | Train Loss: 0.4813469582133823\n",
      "Epoch: 7 | Train Loss: 0.4314655173155997\n",
      "Epoch: 8 | Train Loss: 0.43016036848227185\n",
      "Epoch: 9 | Train Loss: 0.4171392114626037\n"
     ]
    }
   ],
   "source": [
    "epochs = 10\n",
    "train_loss = []\n",
    "\n",
    "for epoch in range(epochs):\n",
    "   \n",
    "    total_train_loss = 0\n",
    "    \n",
    "    # training our model\n",
    "    for idx, (image, label) in enumerate(trainLoader):\n",
    "        image, label = image.to(device), label.to(device)\n",
    "\n",
    "        optimizer.zero_grad()\n",
    "        pred = model(image)\n",
    "\n",
    "        loss = criterion(pred, label)\n",
    "        total_train_loss += loss.item()\n",
    "\n",
    "        loss.backward()\n",
    "        optimizer.step()\n",
    "\n",
    "    total_train_loss = total_train_loss / (idx + 1)\n",
    "    train_loss.append(total_train_loss)\n",
    "\n",
    "    print(f'Epoch: {epoch} | Train Loss: {total_train_loss}')"
   ]
  },
  {
   "cell_type": "code",
   "execution_count": 23,
   "metadata": {
    "colab": {
     "base_uri": "https://localhost:8080/",
     "height": 283
    },
    "id": "KHsHp7XzXZm3",
    "outputId": "7612baec-41de-404d-9d0f-e66f5716a911"
   },
   "outputs": [
    {
     "data": {
      "text/plain": [
       "[<matplotlib.lines.Line2D at 0x7fe0411bfc10>]"
      ]
     },
     "execution_count": 23,
     "metadata": {},
     "output_type": "execute_result"
    },
    {
     "data": {
      "image/png": "[encoded data removed]",
      "text/plain": [
       "<Figure size 432x288 with 1 Axes>"
      ]
     },
     "metadata": {
      "needs_background": "light"
     },
     "output_type": "display_data"
    }
   ],
   "source": [
    "plt.plot(train_loss)"
   ]
  }
 ],
 "metadata": {
  "accelerator": "GPU",
  "colab": {
   "authorship_tag": "ABX9TyMdI6pcCTkQD8OMfHZwGnb7",
   "collapsed_sections": [],
   "include_colab_link": true,
   "name": "011_alexNet.ipynb",
   "provenance": []
  },
  "kernelspec": {
   "display_name": "Python 3",
   "language": "python",
   "name": "python3"
  },
  "language_info": {
   "codemirror_mode": {
    "name": "ipython",
    "version": 3
   },
   "file_extension": ".py",
   "mimetype": "text/x-python",
   "name": "python",
   "nbconvert_exporter": "python",
   "pygments_lexer": "ipython3",
   "version": "3.7.12"
  }
 },
 "nbformat": 4,
 "nbformat_minor": 1
}
